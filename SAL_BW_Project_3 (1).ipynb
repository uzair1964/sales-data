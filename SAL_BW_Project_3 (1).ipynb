{
 "cells": [
  {
   "cell_type": "code",
   "execution_count": null,
   "id": "5bc2fc05-1c7c-4f84-945c-ac203a207cf5",
   "metadata": {},
   "outputs": [],
   "source": [
    "import pandas as pd"
   ]
  },
  {
   "cell_type": "code",
   "execution_count": null,
   "id": "9980d289-7cfe-48b1-9639-defa562cf426",
   "metadata": {},
   "outputs": [],
   "source": [
    "df = pd.read_csv('retail_sales_dataset.csv')"
   ]
  },
  {
   "cell_type": "markdown",
   "id": "471ef1a2-aa81-4e87-a224-6066fa90f0bb",
   "metadata": {},
   "source": [
    "##### Handle missing values"
   ]
  },
  {
   "cell_type": "code",
   "execution_count": null,
   "id": "ffa93525-ac82-4fb5-9981-de0df7918cbd",
   "metadata": {},
   "outputs": [],
   "source": [
    "print(df.isnull().sum())\n",
    "print(df.dropna(inplace = True))"
   ]
  },
  {
   "cell_type": "markdown",
   "id": "7420cd5d-f160-4dcd-99e5-26e6f30f8d9a",
   "metadata": {},
   "source": [
    "##### Remove duplicate or canceled orders"
   ]
  },
  {
   "cell_type": "code",
   "execution_count": null,
   "id": "7ff70220-f634-489d-bf38-83400878bd62",
   "metadata": {},
   "outputs": [],
   "source": [
    "print(df.duplicated().sum())\n",
    "print(df.drop_duplicates(inplace = True))"
   ]
  },
  {
   "cell_type": "markdown",
   "id": "9d684797-003c-46ed-bb71-9e7670598baa",
   "metadata": {},
   "source": [
    "##### Create columns like TotalPrice = Quantity * UnitPrice"
   ]
  },
  {
   "cell_type": "code",
   "execution_count": null,
   "id": "940b96c7-6606-4aac-98a9-e2b21aac4525",
   "metadata": {},
   "outputs": [],
   "source": [
    "df['TotalPrice'] = df['Quantity'] * df['Price per Unit']\n",
    "df.head()"
   ]
  },
  {
   "cell_type": "markdown",
   "id": "ddff1ea8-9beb-4e8d-a370-ef38bd1b2eff",
   "metadata": {},
   "source": [
    "##### Export cleaned data to a CSV."
   ]
  },
  {
   "cell_type": "code",
   "execution_count": null,
   "id": "5341fe41-f7dc-48c3-9526-b28d206b3f03",
   "metadata": {},
   "outputs": [],
   "source": [
    "df.to_csv('retail_sales_dataset_cln.csv', index=False)\n",
    "print(\"Cleaned data exported to cleaned_retail_sales_dataset.csv\")"
   ]
  },
  {
   "cell_type": "code",
   "execution_count": null,
   "id": "2413bdf2-9f7c-41c5-a20a-7f7475bb49e6",
   "metadata": {},
   "outputs": [],
   "source": [
    "!pip install PyMySQL\n",
    "!pip install ipython-sql\n",
    "!pip install mysqlclient\n",
    "!pip install mysql\n",
    "!pip install mysql.connector"
   ]
  },
  {
   "cell_type": "code",
   "execution_count": null,
   "id": "9471c875-7f5e-4df1-970d-90ee6eabfd16",
   "metadata": {},
   "outputs": [],
   "source": [
    "import pymysql\n",
    "\n",
    "mydb = pymysql.connect(\n",
    "    host=\"localhost\",\n",
    "    user=\"root\",\n",
    "    password=\"Shailesh@06\",\n",
    "    database=\"Retail_Sale\"\n",
    ")"
   ]
  },
  {
   "cell_type": "code",
   "execution_count": null,
   "id": "9bc628c2-d440-4265-923b-59ab528fca2e",
   "metadata": {},
   "outputs": [],
   "source": [
    "cursor = mydb.cursor()"
   ]
  },
  {
   "cell_type": "code",
   "execution_count": null,
   "id": "c5e5bc7f-7b0c-4099-832d-1212835c6cdb",
   "metadata": {},
   "outputs": [],
   "source": [
    "df = pd.read_csv('retail_sales_dataset_cln.csv')\n",
    "for _, row in df.iterrows():\n",
    "    cursor.execute(\"\"\"INSERT INTO sales(Transaction_ID, Date_, Customer_ID, Gender, Age, Product_Category, Quantity, Price_per_Unit, Total_Amount, TotalPrice)\n",
    "    Values(%s, %s, %s, %s, %s, %s, %s, %s, %s, %s)\n",
    "    \"\"\", (row[\"Transaction ID\"], row[\"Date\"], row[\"Customer ID\"], row[\"Gender\"], row[\"Age\"], row[\"Product Category\"], row[\"Quantity\"], row[\"Price per Unit\"], row[\"Total Amount\"], row[\"TotalPrice\"]))\n",
    "\n",
    "mydb.commit()\n",
    "print(\"Data Inserted Successfully\")"
   ]
  },
  {
   "cell_type": "code",
   "execution_count": null,
   "id": "37f1e041-2e3e-4eef-9ea6-93174439ea99",
   "metadata": {},
   "outputs": [],
   "source": [
    "querry = \"SELECT * FROM Sales\"\n",
    "cursor.execute(querry)\n",
    "rows = cursor.fetchall()\n",
    "for row in rows:\n",
    "    print(row)"
   ]
  },
  {
   "cell_type": "markdown",
   "id": "9cf61d95-9b50-4496-9133-697e45794f28",
   "metadata": {},
   "source": [
    "##### Time series line plot: Monthly sales trend\n"
   ]
  },
  {
   "cell_type": "code",
   "execution_count": null,
   "id": "ba2d89d3-75aa-4bef-9c94-7f84251c9005",
   "metadata": {},
   "outputs": [],
   "source": [
    "import matplotlib.pyplot as plt\n",
    "df['Date'] = pd.to_datetime(df['Date'])\n",
    "df['Month'] = df['Date'].dt.month\n",
    "\n",
    "plt.figure(figsize=(10, 6))\n",
    "plt.plot(df['Month'], df['TotalPrice'], label='Monthly Sales Trend')\n",
    "plt.xlabel('Month')\n",
    "plt.ylabel('TotalPrice')\n",
    "plt.title('Monthly Sales Trend')\n",
    "plt.legend()\n",
    "plt.show()"
   ]
  },
  {
   "cell_type": "markdown",
   "id": "e9749543-7bc2-4541-bf65-a291fb79c585",
   "metadata": {},
   "source": [
    "##### Bar chart: Top product category by revenue\n"
   ]
  },
  {
   "cell_type": "code",
   "execution_count": null,
   "id": "bc4945e2-c858-4688-a335-a60c365d9caa",
   "metadata": {},
   "outputs": [],
   "source": [
    "category_revenue = df.groupby('Product Category')['TotalPrice'].sum().sort_values(ascending=False)\n",
    "\n",
    "top_categories = category_revenue.head()\n",
    "\n",
    "plt.figure(figsize=(12, 6))\n",
    "top_categories.plot(kind='bar', color='lightcoral')\n",
    "plt.xlabel('Product Category')\n",
    "plt.ylabel('Revenue')\n",
    "plt.title('Top Product Categories by Revenue')\n",
    "plt.xticks(rotation=45)\n",
    "plt.show()"
   ]
  },
  {
   "cell_type": "markdown",
   "id": "6d2dfd1f-7bb3-4d10-9c92-d44f1fb392e6",
   "metadata": {},
   "source": [
    "##### Pie chart: Contribution of top 5 customers"
   ]
  },
  {
   "cell_type": "code",
   "execution_count": null,
   "id": "753ca321-9502-40b2-bfa5-21c66a43ddea",
   "metadata": {},
   "outputs": [],
   "source": [
    "customer_revenue = df.groupby('Customer ID')['TotalPrice'].sum().sort_values(ascending=False)\n",
    "\n",
    "top_5_customers = customer_revenue.head(5)\n",
    "\n",
    "others_revenue = customer_revenue[5:].sum()\n",
    "top_5_customers['Others'] = others_revenue\n",
    "\n",
    "plt.figure(figsize=(8, 8))\n",
    "top_5_customers.plot(kind='pie', autopct='%1.1f%%', startangle=140, colormap='coolwarm')\n",
    "plt.ylabel('') \n",
    "plt.title('Contribution of Top 5 Customers to Total Revenue')\n",
    "plt.show()"
   ]
  },
  {
   "cell_type": "markdown",
   "id": "25eeffea-5386-4f33-b8df-c25aedb1e6c9",
   "metadata": {},
   "source": [
    "##### Heatmap: Sales by month and product category"
   ]
  },
  {
   "cell_type": "code",
   "execution_count": null,
   "id": "d2155908-0180-47e5-a1fc-d06288d210d9",
   "metadata": {},
   "outputs": [],
   "source": [
    "import seaborn as sns\n",
    "import matplotlib.pyplot as plt\n",
    "\n",
    "heatmap_data = df.pivot_table(index='Month', columns='Product Category', values='TotalPrice', aggfunc='sum')\n",
    "\n",
    "plt.figure(figsize=(12, 8))\n",
    "sns.heatmap(heatmap_data, cmap='YlGnBu', annot=True, fmt='.1f', linewidths=0.5)\n",
    "plt.title('Sales by Month and Product Category')\n",
    "plt.xlabel('Product Category')\n",
    "plt.ylabel('Month')\n",
    "plt.show()"
   ]
  }
 ],
 "metadata": {
  "kernelspec": {
   "display_name": "Python [conda env:base] *",
   "language": "python",
   "name": "conda-base-py"
  },
  "language_info": {
   "codemirror_mode": {
    "name": "ipython",
    "version": 3
   },
   "file_extension": ".py",
   "mimetype": "text/x-python",
   "name": "python",
   "nbconvert_exporter": "python",
   "pygments_lexer": "ipython3",
   "version": "3.12.7"
  }
 },
 "nbformat": 4,
 "nbformat_minor": 5
}